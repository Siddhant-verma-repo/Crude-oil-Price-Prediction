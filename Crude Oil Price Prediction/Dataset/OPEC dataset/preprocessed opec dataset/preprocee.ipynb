{
 "cells": [
  {
   "cell_type": "code",
   "execution_count": 1,
   "metadata": {},
   "outputs": [
    {
     "name": "stdout",
     "output_type": "stream",
     "text": [
      "           Date    val\n",
      "4312 2019-09-23  64.51\n",
      "4313 2019-09-24  63.93\n",
      "4314 2019-09-25  62.35\n",
      "4315 2019-09-26  62.31\n",
      "4316 2019-09-27  62.51\n",
      "...         ...    ...\n",
      "5597 2024-09-13  73.05\n",
      "5598 2024-09-16  72.77\n",
      "5599 2024-09-17  73.57\n",
      "5600 2024-09-18  73.65\n",
      "5601 2024-09-19  75.15\n",
      "\n",
      "[1290 rows x 2 columns]\n"
     ]
    }
   ],
   "source": [
    "import pandas as pd\n",
    "\n",
    "# Load the dataset\n",
    "file_path = './opec_basket_price_daily_preprocessed.csv'  # Replace with your file path\n",
    "data = pd.read_csv(file_path)\n",
    "\n",
    "# Convert the 'Date' column to datetime format\n",
    "data['Date'] = pd.to_datetime(data['Date'])\n",
    "\n",
    "# Define the date range for filtering\n",
    "start_date = '2019-09-23'\n",
    "end_date = '2024-09-19'\n",
    "\n",
    "# Filter data within the specified date range\n",
    "filtered_data = data[(data['Date'] >= start_date) & (data['Date'] <= end_date)]\n",
    "\n",
    "# Save the filtered data (optional)\n",
    "filtered_data.to_csv('filtered_data.csv', index=False)\n",
    "\n",
    "# Display the filtered data\n",
    "print(filtered_data)\n"
   ]
  }
 ],
 "metadata": {
  "kernelspec": {
   "display_name": "Python 3",
   "language": "python",
   "name": "python3"
  },
  "language_info": {
   "codemirror_mode": {
    "name": "ipython",
    "version": 3
   },
   "file_extension": ".py",
   "mimetype": "text/x-python",
   "name": "python",
   "nbconvert_exporter": "python",
   "pygments_lexer": "ipython3",
   "version": "3.11.4"
  }
 },
 "nbformat": 4,
 "nbformat_minor": 2
}
