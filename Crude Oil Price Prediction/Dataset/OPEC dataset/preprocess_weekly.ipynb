{
 "cells": [
  {
   "cell_type": "code",
   "execution_count": 1,
   "metadata": {},
   "outputs": [],
   "source": [
    "# Preprocessing of opec_basket_price_weekly.csv\n",
    "import pandas as pd\n",
    "\n",
    "# Load the weekly data CSV\n",
    "weekly_data = pd.read_csv('opec_basket_price_weekly.csv')\n",
    "\n",
    "\n"
   ]
  },
  {
   "cell_type": "code",
   "execution_count": 2,
   "metadata": {},
   "outputs": [
    {
     "name": "stdout",
     "output_type": "stream",
     "text": [
      "Missing values per column:\n",
      " Date    0\n",
      "val     0\n",
      "dtype: int64\n"
     ]
    }
   ],
   "source": [
    "# Step 1: Handling missing values\n",
    "# Check for missing values\n",
    "print(\"Missing values per column:\\n\", weekly_data.isnull().sum())\n",
    "\n"
   ]
  },
  {
   "cell_type": "code",
   "execution_count": 3,
   "metadata": {},
   "outputs": [
    {
     "name": "stdout",
     "output_type": "stream",
     "text": [
      "               val\n",
      "count  1135.000000\n",
      "mean     70.242468\n",
      "std      26.111856\n",
      "min      14.116000\n",
      "25%      50.175000\n",
      "50%      67.850000\n",
      "75%      89.847000\n",
      "max     138.312000\n"
     ]
    }
   ],
   "source": [
    "# Remove rows with missing values\n",
    "weekly_data.dropna(inplace=True)\n",
    "\n",
    "# Step 3: Checking summary statistics\n",
    "print(weekly_data.describe())\n"
   ]
  },
  {
   "cell_type": "code",
   "execution_count": 4,
   "metadata": {},
   "outputs": [
    {
     "name": "stdout",
     "output_type": "stream",
     "text": [
      "Preprocessed weekly data saved as opec_basket_price_weekly_preprocessed.csv\n"
     ]
    }
   ],
   "source": [
    "\n",
    "# Save the preprocessed data\n",
    "weekly_data.to_csv('opec_basket_price_weekly_preprocessed.csv', index=False)\n",
    "\n",
    "print(\"Preprocessed weekly data saved as opec_basket_price_weekly_preprocessed.csv\")"
   ]
  },
  {
   "cell_type": "code",
   "execution_count": null,
   "metadata": {},
   "outputs": [],
   "source": []
  }
 ],
 "metadata": {
  "kernelspec": {
   "display_name": "Python 3",
   "language": "python",
   "name": "python3"
  },
  "language_info": {
   "codemirror_mode": {
    "name": "ipython",
    "version": 3
   },
   "file_extension": ".py",
   "mimetype": "text/x-python",
   "name": "python",
   "nbconvert_exporter": "python",
   "pygments_lexer": "ipython3",
   "version": "3.11.4"
  }
 },
 "nbformat": 4,
 "nbformat_minor": 2
}
