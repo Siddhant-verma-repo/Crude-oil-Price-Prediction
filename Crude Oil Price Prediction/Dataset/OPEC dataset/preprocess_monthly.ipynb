{
 "cells": [
  {
   "cell_type": "code",
   "execution_count": 1,
   "metadata": {},
   "outputs": [
    {
     "name": "stdout",
     "output_type": "stream",
     "text": [
      "Missing values per column:\n",
      " Date    0\n",
      "val     0\n",
      "dtype: int64\n"
     ]
    }
   ],
   "source": [
    "# Preprocessing of opec_basket_price_monthly.csv\n",
    "import pandas as pd\n",
    "\n",
    "\n",
    "# Load the monthly data CSV\n",
    "monthly_data = pd.read_csv('opec_basket_price_monthly.csv')\n",
    "\n",
    "# Step 1: Handling missing values\n",
    "# Check for missing values\n",
    "print(\"Missing values per column:\\n\", monthly_data.isnull().sum())\n",
    "\n",
    "\n"
   ]
  },
  {
   "cell_type": "code",
   "execution_count": 2,
   "metadata": {},
   "outputs": [
    {
     "name": "stdout",
     "output_type": "stream",
     "text": [
      "              val\n",
      "count  261.000000\n",
      "mean    70.251134\n",
      "std     26.039964\n",
      "min     17.660476\n",
      "25%     50.202857\n",
      "50%     68.361818\n",
      "75%     89.119091\n",
      "max    131.221739\n"
     ]
    }
   ],
   "source": [
    "# Remove rows with missing values\n",
    "monthly_data.dropna(inplace=True)\n",
    "\n",
    "\n",
    "# Step 3: Checking summary statistics\n",
    "print(monthly_data.describe())\n"
   ]
  },
  {
   "cell_type": "code",
   "execution_count": 3,
   "metadata": {},
   "outputs": [
    {
     "name": "stdout",
     "output_type": "stream",
     "text": [
      "Preprocessed monthly data saved as opec_basket_price_monthly_preprocessed.csv\n"
     ]
    }
   ],
   "source": [
    "\n",
    "# Save the preprocessed data\n",
    "monthly_data.to_csv('opec_basket_price_monthly_preprocessed.csv', index=False)\n",
    "\n",
    "print(\"Preprocessed monthly data saved as opec_basket_price_monthly_preprocessed.csv\")"
   ]
  }
 ],
 "metadata": {
  "kernelspec": {
   "display_name": "Python 3",
   "language": "python",
   "name": "python3"
  },
  "language_info": {
   "codemirror_mode": {
    "name": "ipython",
    "version": 3
   },
   "file_extension": ".py",
   "mimetype": "text/x-python",
   "name": "python",
   "nbconvert_exporter": "python",
   "pygments_lexer": "ipython3",
   "version": "3.11.4"
  }
 },
 "nbformat": 4,
 "nbformat_minor": 2
}
